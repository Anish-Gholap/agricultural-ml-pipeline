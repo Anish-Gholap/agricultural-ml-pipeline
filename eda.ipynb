{
 "cells": [
  {
   "cell_type": "code",
   "execution_count": 86,
   "metadata": {},
   "outputs": [],
   "source": [
    "import pandas as pd\n",
    "import sklearn\n",
    "import seaborn as sns\n",
    "import sqlite3 as sql\n",
    "import matplotlib.pyplot as plt"
   ]
  },
  {
   "cell_type": "code",
   "execution_count": 87,
   "metadata": {},
   "outputs": [],
   "source": [
    "conn = sql.connect(\"data/agri.db\")\n",
    "query = \"SELECT * from farm_data\"\n",
    "df = pd.read_sql_query(query, conn)\n",
    "\n",
    "conn.close()"
   ]
  },
  {
   "cell_type": "markdown",
   "metadata": {},
   "source": [
    "## Overview of Data\n",
    "\n",
    "Let's look at our data to get an initial overview and see what we are working with"
   ]
  },
  {
   "cell_type": "code",
   "execution_count": 88,
   "metadata": {},
   "outputs": [
    {
     "data": {
      "text/html": [
       "<div>\n",
       "<style scoped>\n",
       "    .dataframe tbody tr th:only-of-type {\n",
       "        vertical-align: middle;\n",
       "    }\n",
       "\n",
       "    .dataframe tbody tr th {\n",
       "        vertical-align: top;\n",
       "    }\n",
       "\n",
       "    .dataframe thead th {\n",
       "        text-align: right;\n",
       "    }\n",
       "</style>\n",
       "<table border=\"1\" class=\"dataframe\">\n",
       "  <thead>\n",
       "    <tr style=\"text-align: right;\">\n",
       "      <th></th>\n",
       "      <th>System Location Code</th>\n",
       "      <th>Previous Cycle Plant Type</th>\n",
       "      <th>Plant Type</th>\n",
       "      <th>Plant Stage</th>\n",
       "      <th>Temperature Sensor (°C)</th>\n",
       "      <th>Humidity Sensor (%)</th>\n",
       "      <th>Light Intensity Sensor (lux)</th>\n",
       "      <th>CO2 Sensor (ppm)</th>\n",
       "      <th>EC Sensor (dS/m)</th>\n",
       "      <th>O2 Sensor (ppm)</th>\n",
       "      <th>Nutrient N Sensor (ppm)</th>\n",
       "      <th>Nutrient P Sensor (ppm)</th>\n",
       "      <th>Nutrient K Sensor (ppm)</th>\n",
       "      <th>pH Sensor</th>\n",
       "      <th>Water Level Sensor (mm)</th>\n",
       "    </tr>\n",
       "  </thead>\n",
       "  <tbody>\n",
       "    <tr>\n",
       "      <th>0</th>\n",
       "      <td>Zone_D</td>\n",
       "      <td>Herbs</td>\n",
       "      <td>Vine Crops</td>\n",
       "      <td>Maturity</td>\n",
       "      <td>23.34</td>\n",
       "      <td>NaN</td>\n",
       "      <td>454.0</td>\n",
       "      <td>937</td>\n",
       "      <td>1.82</td>\n",
       "      <td>4</td>\n",
       "      <td>161</td>\n",
       "      <td>64</td>\n",
       "      <td>201</td>\n",
       "      <td>6.1</td>\n",
       "      <td>28.150346</td>\n",
       "    </tr>\n",
       "    <tr>\n",
       "      <th>1</th>\n",
       "      <td>Zone_G</td>\n",
       "      <td>Herbs</td>\n",
       "      <td>VINE CROPS</td>\n",
       "      <td>Vegetative</td>\n",
       "      <td>-24.16</td>\n",
       "      <td>63.14</td>\n",
       "      <td>441.0</td>\n",
       "      <td>938</td>\n",
       "      <td>2.13</td>\n",
       "      <td>6</td>\n",
       "      <td>161</td>\n",
       "      <td>53</td>\n",
       "      <td>None</td>\n",
       "      <td>6.5</td>\n",
       "      <td>31.000000</td>\n",
       "    </tr>\n",
       "    <tr>\n",
       "      <th>2</th>\n",
       "      <td>Zone_F</td>\n",
       "      <td>Herbs</td>\n",
       "      <td>herbs</td>\n",
       "      <td>maturity</td>\n",
       "      <td>23.84</td>\n",
       "      <td>NaN</td>\n",
       "      <td>562.0</td>\n",
       "      <td>1246</td>\n",
       "      <td>1.21</td>\n",
       "      <td>8</td>\n",
       "      <td>228</td>\n",
       "      <td>79</td>\n",
       "      <td>292</td>\n",
       "      <td>6.4</td>\n",
       "      <td>26.000000</td>\n",
       "    </tr>\n",
       "    <tr>\n",
       "      <th>3</th>\n",
       "      <td>Zone_G</td>\n",
       "      <td>Herbs</td>\n",
       "      <td>fruiting vegetables</td>\n",
       "      <td>Vegetative</td>\n",
       "      <td>22.61</td>\n",
       "      <td>NaN</td>\n",
       "      <td>651.0</td>\n",
       "      <td>1346</td>\n",
       "      <td>1.96</td>\n",
       "      <td>6</td>\n",
       "      <td>None</td>\n",
       "      <td>53 ppm</td>\n",
       "      <td>289</td>\n",
       "      <td>6.6</td>\n",
       "      <td>NaN</td>\n",
       "    </tr>\n",
       "    <tr>\n",
       "      <th>4</th>\n",
       "      <td>Zone_B</td>\n",
       "      <td>Vine Crops</td>\n",
       "      <td>LEAFY GREENS</td>\n",
       "      <td>seedling</td>\n",
       "      <td>22.88</td>\n",
       "      <td>NaN</td>\n",
       "      <td>144.0</td>\n",
       "      <td>812</td>\n",
       "      <td>2.76</td>\n",
       "      <td>5</td>\n",
       "      <td>61</td>\n",
       "      <td>19</td>\n",
       "      <td>168</td>\n",
       "      <td>5.5</td>\n",
       "      <td>28.000000</td>\n",
       "    </tr>\n",
       "  </tbody>\n",
       "</table>\n",
       "</div>"
      ],
      "text/plain": [
       "  System Location Code Previous Cycle Plant Type           Plant Type  \\\n",
       "0               Zone_D                     Herbs           Vine Crops   \n",
       "1               Zone_G                     Herbs           VINE CROPS   \n",
       "2               Zone_F                     Herbs                herbs   \n",
       "3               Zone_G                     Herbs  fruiting vegetables   \n",
       "4               Zone_B                Vine Crops         LEAFY GREENS   \n",
       "\n",
       "  Plant Stage  Temperature Sensor (°C)  Humidity Sensor (%)  \\\n",
       "0    Maturity                    23.34                  NaN   \n",
       "1  Vegetative                   -24.16                63.14   \n",
       "2    maturity                    23.84                  NaN   \n",
       "3  Vegetative                    22.61                  NaN   \n",
       "4    seedling                    22.88                  NaN   \n",
       "\n",
       "   Light Intensity Sensor (lux)  CO2 Sensor (ppm)  EC Sensor (dS/m)  \\\n",
       "0                         454.0               937              1.82   \n",
       "1                         441.0               938              2.13   \n",
       "2                         562.0              1246              1.21   \n",
       "3                         651.0              1346              1.96   \n",
       "4                         144.0               812              2.76   \n",
       "\n",
       "   O2 Sensor (ppm) Nutrient N Sensor (ppm) Nutrient P Sensor (ppm)  \\\n",
       "0                4                     161                      64   \n",
       "1                6                     161                      53   \n",
       "2                8                     228                      79   \n",
       "3                6                    None                  53 ppm   \n",
       "4                5                      61                      19   \n",
       "\n",
       "  Nutrient K Sensor (ppm)  pH Sensor  Water Level Sensor (mm)  \n",
       "0                     201        6.1                28.150346  \n",
       "1                    None        6.5                31.000000  \n",
       "2                     292        6.4                26.000000  \n",
       "3                     289        6.6                      NaN  \n",
       "4                     168        5.5                28.000000  "
      ]
     },
     "execution_count": 88,
     "metadata": {},
     "output_type": "execute_result"
    }
   ],
   "source": [
    "df.head()\n"
   ]
  },
  {
   "cell_type": "code",
   "execution_count": 89,
   "metadata": {},
   "outputs": [
    {
     "name": "stdout",
     "output_type": "stream",
     "text": [
      "Shape: (57489, 15)\n"
     ]
    }
   ],
   "source": [
    "print(f\"Shape: {df.shape}\")"
   ]
  },
  {
   "cell_type": "code",
   "execution_count": 90,
   "metadata": {},
   "outputs": [
    {
     "data": {
      "text/html": [
       "<div>\n",
       "<style scoped>\n",
       "    .dataframe tbody tr th:only-of-type {\n",
       "        vertical-align: middle;\n",
       "    }\n",
       "\n",
       "    .dataframe tbody tr th {\n",
       "        vertical-align: top;\n",
       "    }\n",
       "\n",
       "    .dataframe thead th {\n",
       "        text-align: right;\n",
       "    }\n",
       "</style>\n",
       "<table border=\"1\" class=\"dataframe\">\n",
       "  <thead>\n",
       "    <tr style=\"text-align: right;\">\n",
       "      <th></th>\n",
       "      <th>Temperature Sensor (°C)</th>\n",
       "      <th>Humidity Sensor (%)</th>\n",
       "      <th>Light Intensity Sensor (lux)</th>\n",
       "      <th>CO2 Sensor (ppm)</th>\n",
       "      <th>EC Sensor (dS/m)</th>\n",
       "      <th>O2 Sensor (ppm)</th>\n",
       "      <th>pH Sensor</th>\n",
       "      <th>Water Level Sensor (mm)</th>\n",
       "    </tr>\n",
       "  </thead>\n",
       "  <tbody>\n",
       "    <tr>\n",
       "      <th>count</th>\n",
       "      <td>48800.000000</td>\n",
       "      <td>18622.000000</td>\n",
       "      <td>53211.000000</td>\n",
       "      <td>57489.000000</td>\n",
       "      <td>57489.000000</td>\n",
       "      <td>57489.000000</td>\n",
       "      <td>57489.000000</td>\n",
       "      <td>48847.000000</td>\n",
       "    </tr>\n",
       "    <tr>\n",
       "      <th>mean</th>\n",
       "      <td>22.138201</td>\n",
       "      <td>69.243535</td>\n",
       "      <td>397.841668</td>\n",
       "      <td>1083.376576</td>\n",
       "      <td>1.624435</td>\n",
       "      <td>6.580842</td>\n",
       "      <td>6.021446</td>\n",
       "      <td>25.716878</td>\n",
       "    </tr>\n",
       "    <tr>\n",
       "      <th>std</th>\n",
       "      <td>7.556981</td>\n",
       "      <td>5.725973</td>\n",
       "      <td>222.923860</td>\n",
       "      <td>172.570351</td>\n",
       "      <td>0.415535</td>\n",
       "      <td>1.145534</td>\n",
       "      <td>0.400251</td>\n",
       "      <td>5.815294</td>\n",
       "    </tr>\n",
       "    <tr>\n",
       "      <th>min</th>\n",
       "      <td>-28.570000</td>\n",
       "      <td>59.220000</td>\n",
       "      <td>-799.000000</td>\n",
       "      <td>799.000000</td>\n",
       "      <td>-0.250000</td>\n",
       "      <td>3.000000</td>\n",
       "      <td>3.800000</td>\n",
       "      <td>10.001955</td>\n",
       "    </tr>\n",
       "    <tr>\n",
       "      <th>25%</th>\n",
       "      <td>22.140000</td>\n",
       "      <td>64.340000</td>\n",
       "      <td>257.000000</td>\n",
       "      <td>950.000000</td>\n",
       "      <td>1.360000</td>\n",
       "      <td>6.000000</td>\n",
       "      <td>5.800000</td>\n",
       "      <td>21.313361</td>\n",
       "    </tr>\n",
       "    <tr>\n",
       "      <th>50%</th>\n",
       "      <td>23.210000</td>\n",
       "      <td>68.700000</td>\n",
       "      <td>403.000000</td>\n",
       "      <td>1071.000000</td>\n",
       "      <td>1.650000</td>\n",
       "      <td>7.000000</td>\n",
       "      <td>6.000000</td>\n",
       "      <td>26.000000</td>\n",
       "    </tr>\n",
       "    <tr>\n",
       "      <th>75%</th>\n",
       "      <td>24.350000</td>\n",
       "      <td>74.117500</td>\n",
       "      <td>553.000000</td>\n",
       "      <td>1178.000000</td>\n",
       "      <td>1.900000</td>\n",
       "      <td>7.000000</td>\n",
       "      <td>6.300000</td>\n",
       "      <td>30.000000</td>\n",
       "    </tr>\n",
       "    <tr>\n",
       "      <th>max</th>\n",
       "      <td>28.750000</td>\n",
       "      <td>81.140000</td>\n",
       "      <td>800.000000</td>\n",
       "      <td>1500.000000</td>\n",
       "      <td>3.440000</td>\n",
       "      <td>11.000000</td>\n",
       "      <td>7.800000</td>\n",
       "      <td>39.998717</td>\n",
       "    </tr>\n",
       "  </tbody>\n",
       "</table>\n",
       "</div>"
      ],
      "text/plain": [
       "       Temperature Sensor (°C)  Humidity Sensor (%)  \\\n",
       "count             48800.000000         18622.000000   \n",
       "mean                 22.138201            69.243535   \n",
       "std                   7.556981             5.725973   \n",
       "min                 -28.570000            59.220000   \n",
       "25%                  22.140000            64.340000   \n",
       "50%                  23.210000            68.700000   \n",
       "75%                  24.350000            74.117500   \n",
       "max                  28.750000            81.140000   \n",
       "\n",
       "       Light Intensity Sensor (lux)  CO2 Sensor (ppm)  EC Sensor (dS/m)  \\\n",
       "count                  53211.000000      57489.000000      57489.000000   \n",
       "mean                     397.841668       1083.376576          1.624435   \n",
       "std                      222.923860        172.570351          0.415535   \n",
       "min                     -799.000000        799.000000         -0.250000   \n",
       "25%                      257.000000        950.000000          1.360000   \n",
       "50%                      403.000000       1071.000000          1.650000   \n",
       "75%                      553.000000       1178.000000          1.900000   \n",
       "max                      800.000000       1500.000000          3.440000   \n",
       "\n",
       "       O2 Sensor (ppm)     pH Sensor  Water Level Sensor (mm)  \n",
       "count     57489.000000  57489.000000             48847.000000  \n",
       "mean          6.580842      6.021446                25.716878  \n",
       "std           1.145534      0.400251                 5.815294  \n",
       "min           3.000000      3.800000                10.001955  \n",
       "25%           6.000000      5.800000                21.313361  \n",
       "50%           7.000000      6.000000                26.000000  \n",
       "75%           7.000000      6.300000                30.000000  \n",
       "max          11.000000      7.800000                39.998717  "
      ]
     },
     "execution_count": 90,
     "metadata": {},
     "output_type": "execute_result"
    }
   ],
   "source": [
    "df.describe()"
   ]
  },
  {
   "cell_type": "code",
   "execution_count": 91,
   "metadata": {},
   "outputs": [
    {
     "name": "stdout",
     "output_type": "stream",
     "text": [
      "<class 'pandas.core.frame.DataFrame'>\n",
      "RangeIndex: 57489 entries, 0 to 57488\n",
      "Data columns (total 15 columns):\n",
      " #   Column                        Non-Null Count  Dtype  \n",
      "---  ------                        --------------  -----  \n",
      " 0   System Location Code          57489 non-null  object \n",
      " 1   Previous Cycle Plant Type     57489 non-null  object \n",
      " 2   Plant Type                    57489 non-null  object \n",
      " 3   Plant Stage                   57489 non-null  object \n",
      " 4   Temperature Sensor (°C)       48800 non-null  float64\n",
      " 5   Humidity Sensor (%)           18622 non-null  float64\n",
      " 6   Light Intensity Sensor (lux)  53211 non-null  float64\n",
      " 7   CO2 Sensor (ppm)              57489 non-null  int64  \n",
      " 8   EC Sensor (dS/m)              57489 non-null  float64\n",
      " 9   O2 Sensor (ppm)               57489 non-null  int64  \n",
      " 10  Nutrient N Sensor (ppm)       47515 non-null  object \n",
      " 11  Nutrient P Sensor (ppm)       51791 non-null  object \n",
      " 12  Nutrient K Sensor (ppm)       53788 non-null  object \n",
      " 13  pH Sensor                     57489 non-null  float64\n",
      " 14  Water Level Sensor (mm)       48847 non-null  float64\n",
      "dtypes: float64(6), int64(2), object(7)\n",
      "memory usage: 6.6+ MB\n"
     ]
    }
   ],
   "source": [
    "df.info()"
   ]
  },
  {
   "cell_type": "code",
   "execution_count": 92,
   "metadata": {},
   "outputs": [
    {
     "data": {
      "image/png": "[encoded data removed]",
      "text/plain": [
       "<Figure size 1200x1000 with 9 Axes>"
      ]
     },
     "metadata": {},
     "output_type": "display_data"
    }
   ],
   "source": [
    "df.hist(bins=50, figsize=(12,10))\n",
    "plt.show()"
   ]
  },
  {
   "cell_type": "markdown",
   "metadata": {},
   "source": [
    "Based on our preliminary overview, we note down the following:\n",
    "\n",
    "* Null values exist throughout many features\n",
    "* Humidity is mostly null\n",
    "* Nutrient N, P and K Sensor features are of the wrong data type\n",
    "* Negative values exist in temperature, light intensity and EC. Light intensity and Electrical conductivity cannot be negative\n",
    "* Although crops can grow in cold temperatures, looking at the histogram, the absense of readings inbetween the positive and negative readings shows that this is more likely due to sensor error"
   ]
  },
  {
   "cell_type": "markdown",
   "metadata": {},
   "source": [
    "Before, we create our test split, let us do some quick cleaning of our data to fix the obvious issues. We start with the mismatch of data types of Nutrients N, P and K sensor."
   ]
  },
  {
   "cell_type": "code",
   "execution_count": 93,
   "metadata": {},
   "outputs": [],
   "source": [
    "columns = ['Nutrient N Sensor (ppm)', 'Nutrient P Sensor (ppm)', 'Nutrient K Sensor (ppm)']\n",
    "\n",
    "for column in columns:\n",
    "  # Replace None with NaN\n",
    "  df[column] = df[column].replace('None', None)\n",
    "  \n",
    "  # Remove ppm suffix\n",
    "  df[column] = df[column].str.replace('ppm', '', regex=True)\n",
    "  \n",
    "  # Convert to float64\n",
    "  df[column] = df[column].astype('float64')"
   ]
  },
  {
   "cell_type": "markdown",
   "metadata": {},
   "source": [
    "We now look at the negative values"
   ]
  },
  {
   "cell_type": "code",
   "execution_count": 94,
   "metadata": {},
   "outputs": [
    {
     "name": "stdout",
     "output_type": "stream",
     "text": [
      "Negative values count:\n",
      "Temperature Sensor (°C)         1252\n",
      "Humidity Sensor (%)                0\n",
      "Light Intensity Sensor (lux)    1385\n",
      "CO2 Sensor (ppm)                   0\n",
      "EC Sensor (dS/m)                  14\n",
      "O2 Sensor (ppm)                    0\n",
      "Nutrient N Sensor (ppm)            0\n",
      "Nutrient P Sensor (ppm)            0\n",
      "Nutrient K Sensor (ppm)            0\n",
      "pH Sensor                          0\n",
      "Water Level Sensor (mm)            0\n",
      "dtype: int64\n"
     ]
    }
   ],
   "source": [
    "numerical_df = df.select_dtypes(include=['float64', 'int64'])\n",
    "print(\"Negative values count:\")\n",
    "print((numerical_df < 0).sum())"
   ]
  },
  {
   "cell_type": "code",
   "execution_count": 95,
   "metadata": {},
   "outputs": [
    {
     "name": "stdout",
     "output_type": "stream",
     "text": [
      "Null values count\n",
      "Temperature Sensor (°C)         0\n",
      "Humidity Sensor (%)             0\n",
      "Light Intensity Sensor (lux)    0\n",
      "CO2 Sensor (ppm)                0\n",
      "EC Sensor (dS/m)                0\n",
      "O2 Sensor (ppm)                 0\n",
      "Nutrient N Sensor (ppm)         0\n",
      "Nutrient P Sensor (ppm)         0\n",
      "Nutrient K Sensor (ppm)         0\n",
      "pH Sensor                       0\n",
      "Water Level Sensor (mm)         0\n",
      "dtype: int64\n"
     ]
    }
   ],
   "source": [
    "numerical_df_null = numerical_df[numerical_df.isnull()]\n",
    "print(\"Null values count\")\n",
    "print((numerical_df_null<0).sum())"
   ]
  },
  {
   "cell_type": "markdown",
   "metadata": {},
   "source": [
    "Since there is no overlap between null and negative values, we can proceed with removing the negative values. Let's confirm the amount of values that are negative"
   ]
  },
  {
   "cell_type": "code",
   "execution_count": 96,
   "metadata": {},
   "outputs": [
    {
     "name": "stdout",
     "output_type": "stream",
     "text": [
      "Percentage of negative values in Light Intensity Sensor: 2.60\n",
      "Percentage of negative values in EC Sensor: 0.02\n",
      "Percentage of negative values in Temperature Sensor: 2.57\n"
     ]
    }
   ],
   "source": [
    "print(f\"Percentage of negative values in Light Intensity Sensor: {(df['Light Intensity Sensor (lux)'] < 0).sum() / df['Light Intensity Sensor (lux)'].count() * 100 :.2f}\")\n",
    "print(f\"Percentage of negative values in EC Sensor: {(df['EC Sensor (dS/m)'] < 0).sum() / df['EC Sensor (dS/m)'].count() * 100 :.2f}\")\n",
    "print(f\"Percentage of negative values in Temperature Sensor: {(df['Temperature Sensor (°C)'] < 0).sum() / df['Temperature Sensor (°C)'].count() * 100 :.2f}\")"
   ]
  },
  {
   "cell_type": "markdown",
   "metadata": {},
   "source": [
    "Since, the amount of of negative values is small, we will drop them instead of imputing them later"
   ]
  },
  {
   "cell_type": "code",
   "execution_count": 98,
   "metadata": {},
   "outputs": [],
   "source": [
    "df = df[(df['Light Intensity Sensor (lux)'] >= 0) & (df['EC Sensor (dS/m)'] >= 0) & (df['Temperature Sensor (°C)'] >= 0)]"
   ]
  },
  {
   "cell_type": "markdown",
   "metadata": {},
   "source": [
    "Let us now look at the missing values"
   ]
  },
  {
   "cell_type": "code",
   "execution_count": 104,
   "metadata": {},
   "outputs": [
    {
     "name": "stdout",
     "output_type": "stream",
     "text": [
      "Num of null values:\n",
      "System Location Code                0\n",
      "Previous Cycle Plant Type           0\n",
      "Plant Type                          0\n",
      "Plant Stage                         0\n",
      "Temperature Sensor (°C)             0\n",
      "Humidity Sensor (%)             28990\n",
      "Light Intensity Sensor (lux)        0\n",
      "CO2 Sensor (ppm)                    0\n",
      "EC Sensor (dS/m)                    0\n",
      "O2 Sensor (ppm)                     0\n",
      "Nutrient N Sensor (ppm)          7435\n",
      "Nutrient P Sensor (ppm)          4284\n",
      "Nutrient K Sensor (ppm)          2723\n",
      "pH Sensor                           0\n",
      "Water Level Sensor (mm)          6423\n",
      "dtype: int64\n"
     ]
    }
   ],
   "source": [
    "print(\"Num of null values:\")\n",
    "print(df.isnull().sum())"
   ]
  },
  {
   "cell_type": "code",
   "execution_count": 106,
   "metadata": {},
   "outputs": [
    {
     "name": "stdout",
     "output_type": "stream",
     "text": [
      "Percentage of null values:\n",
      "System Location Code             0.000000\n",
      "Previous Cycle Plant Type        0.000000\n",
      "Plant Type                       0.000000\n",
      "Plant Stage                      0.000000\n",
      "Temperature Sensor (°C)          0.000000\n",
      "Humidity Sensor (%)             67.638824\n",
      "Light Intensity Sensor (lux)     0.000000\n",
      "CO2 Sensor (ppm)                 0.000000\n",
      "EC Sensor (dS/m)                 0.000000\n",
      "O2 Sensor (ppm)                  0.000000\n",
      "Nutrient N Sensor (ppm)         17.347177\n",
      "Nutrient P Sensor (ppm)          9.995334\n",
      "Nutrient K Sensor (ppm)          6.353243\n",
      "pH Sensor                        0.000000\n",
      "Water Level Sensor (mm)         14.986001\n",
      "dtype: float64\n"
     ]
    }
   ],
   "source": [
    "print(\"Percentage of null values:\")\n",
    "print(df.isnull().mean() * 100)"
   ]
  },
  {
   "cell_type": "code",
   "execution_count": 108,
   "metadata": {},
   "outputs": [
    {
     "data": {
      "text/plain": [
       "<Axes: >"
      ]
     },
     "execution_count": 108,
     "metadata": {},
     "output_type": "execute_result"
    },
    {
     "data": {
      "image/png": "[encoded data removed]",
      "text/plain": [
       "<Figure size 640x480 with 1 Axes>"
      ]
     },
     "metadata": {},
     "output_type": "display_data"
    }
   ],
   "source": [
    "sns.heatmap(df.isnull(), yticklabels=False, cbar=False, cmap='viridis')"
   ]
  },
  {
   "cell_type": "markdown",
   "metadata": {},
   "source": [
    "We observe that humidity sensor has roughly 68% of missing values, hence we drop it. We will impute for the remaining features"
   ]
  },
  {
   "cell_type": "code",
   "execution_count": 111,
   "metadata": {},
   "outputs": [],
   "source": [
    "df.drop(columns=['Humidity Sensor (%)'], inplace=True)"
   ]
  },
  {
   "cell_type": "code",
   "execution_count": 112,
   "metadata": {},
   "outputs": [
    {
     "data": {
      "text/plain": [
       "Index(['System Location Code', 'Previous Cycle Plant Type', 'Plant Type',\n",
       "       'Plant Stage', 'Temperature Sensor (°C)',\n",
       "       'Light Intensity Sensor (lux)', 'CO2 Sensor (ppm)', 'EC Sensor (dS/m)',\n",
       "       'O2 Sensor (ppm)', 'Nutrient N Sensor (ppm)', 'Nutrient P Sensor (ppm)',\n",
       "       'Nutrient K Sensor (ppm)', 'pH Sensor', 'Water Level Sensor (mm)'],\n",
       "      dtype='object')"
      ]
     },
     "execution_count": 112,
     "metadata": {},
     "output_type": "execute_result"
    }
   ],
   "source": [
    "df.columns"
   ]
  },
  {
   "cell_type": "markdown",
   "metadata": {},
   "source": [
    "Now, let us check if there are any inconsistencies with our categorical features"
   ]
  },
  {
   "cell_type": "code",
   "execution_count": 116,
   "metadata": {},
   "outputs": [
    {
     "data": {
      "text/plain": [
       "array(['Zone_D', 'Zone_F', 'Zone_G', 'Zone_B', 'Zone_C', 'Zone_A',\n",
       "       'Zone_E'], dtype=object)"
      ]
     },
     "execution_count": 116,
     "metadata": {},
     "output_type": "execute_result"
    }
   ],
   "source": [
    "df['System Location Code'].unique()"
   ]
  },
  {
   "cell_type": "code",
   "execution_count": 117,
   "metadata": {},
   "outputs": [
    {
     "data": {
      "text/plain": [
       "array(['Herbs', 'Vine Crops', 'Leafy Greens', 'Fruiting Vegetables'],\n",
       "      dtype=object)"
      ]
     },
     "execution_count": 117,
     "metadata": {},
     "output_type": "execute_result"
    }
   ],
   "source": [
    "df['Previous Cycle Plant Type'].unique()"
   ]
  },
  {
   "cell_type": "code",
   "execution_count": 115,
   "metadata": {},
   "outputs": [
    {
     "data": {
      "text/plain": [
       "array(['Vine Crops', 'herbs', 'fruiting vegetables', 'LEAFY GREENS',\n",
       "       'FRUITING VEGETABLES', 'Leafy Greens', 'Herbs',\n",
       "       'Fruiting Vegetables', 'HERBS', 'vine crops', 'leafy greens',\n",
       "       'VINE CROPS'], dtype=object)"
      ]
     },
     "execution_count": 115,
     "metadata": {},
     "output_type": "execute_result"
    }
   ],
   "source": [
    "df['Plant Type'].unique()"
   ]
  },
  {
   "cell_type": "code",
   "execution_count": 113,
   "metadata": {},
   "outputs": [
    {
     "data": {
      "text/plain": [
       "array(['Maturity', 'maturity', 'Vegetative', 'seedling', 'MATURITY',\n",
       "       'Seedling', 'SEEDLING', 'VEGETATIVE', 'vegetative'], dtype=object)"
      ]
     },
     "execution_count": 113,
     "metadata": {},
     "output_type": "execute_result"
    }
   ],
   "source": [
    "df['Plant Stage'].unique()"
   ]
  },
  {
   "cell_type": "markdown",
   "metadata": {},
   "source": [
    "Plant Type and Plant Stage have multiple labels for the same type. We will standardise the labels and have Plant Type match Previous Plant Type"
   ]
  },
  {
   "cell_type": "code",
   "execution_count": null,
   "metadata": {},
   "outputs": [],
   "source": [
    "mapping = {\n",
    "  \"Vine Crops\": \"\"\n",
    "}"
   ]
  }
 ],
 "metadata": {
  "kernelspec": {
   "display_name": "myvenv",
   "language": "python",
   "name": "python3"
  },
  "language_info": {
   "codemirror_mode": {
    "name": "ipython",
    "version": 3
   },
   "file_extension": ".py",
   "mimetype": "text/x-python",
   "name": "python",
   "nbconvert_exporter": "python",
   "pygments_lexer": "ipython3",
   "version": "3.13.2"
  }
 },
 "nbformat": 4,
 "nbformat_minor": 2
}
